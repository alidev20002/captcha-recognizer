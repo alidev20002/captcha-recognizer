{
  "nbformat": 4,
  "nbformat_minor": 0,
  "metadata": {
    "colab": {
      "provenance": []
    },
    "kernelspec": {
      "name": "python3",
      "display_name": "Python 3"
    },
    "language_info": {
      "name": "python"
    }
  },
  "cells": [
    {
      "cell_type": "code",
      "source": [
        "!unzip captchas.zip"
      ],
      "metadata": {
        "colab": {
          "base_uri": "https://localhost:8080/"
        },
        "id": "m4W4YIfH0N5y",
        "outputId": "9fb11cfe-ae5b-45de-9760-4834629a1035"
      },
      "execution_count": null,
      "outputs": [
        {
          "output_type": "stream",
          "name": "stdout",
          "text": [
            "Archive:  captchas.zip\n",
            "replace captchas/newset/c11482/0.png? [y]es, [n]o, [A]ll, [N]one, [r]ename: n\n",
            "replace captchas/newset/c11482/1.png? [y]es, [n]o, [A]ll, [N]one, [r]ename: "
          ]
        }
      ]
    },
    {
      "cell_type": "code",
      "source": [
        "import numpy as np\n",
        "from PIL import Image\n",
        "import os"
      ],
      "metadata": {
        "id": "N-tHkiJg0WaS"
      },
      "execution_count": null,
      "outputs": []
    },
    {
      "cell_type": "code",
      "source": [
        "img = Image.open('captchas/newset/c26434/0.png')\n",
        "img"
      ],
      "metadata": {
        "colab": {
          "base_uri": "https://localhost:8080/",
          "height": 52
        },
        "id": "l8W8GtKF18Zh",
        "outputId": "eafee62a-ca16-4df1-f1fd-9ec882753c34"
      },
      "execution_count": null,
      "outputs": [
        {
          "output_type": "execute_result",
          "data": {
            "text/plain": [
              "<PIL.PngImagePlugin.PngImageFile image mode=RGB size=150x35 at 0x7FCC04229550>"
            ],
            "image/png": "[encoded data removed]"
          },
          "metadata": {},
          "execution_count": 6
        }
      ]
    },
    {
      "cell_type": "code",
      "source": [
        "img = Image.open('captchas/newset/c26434/0.png')\n",
        "start = 5\n",
        "end = 40\n",
        "for i in range(5):\n",
        "  img_crop = img.crop((start, 0, end, 35))\n",
        "  img_crop.show()\n",
        "  start += 25\n",
        "  end += 25"
      ],
      "metadata": {
        "colab": {
          "base_uri": "https://localhost:8080/",
          "height": 192
        },
        "id": "1ZC9W6Md-gy9",
        "outputId": "a79fccd7-1141-499d-a918-9c2270aed2ce"
      },
      "execution_count": null,
      "outputs": [
        {
          "output_type": "display_data",
          "data": {
            "text/plain": [
              "<PIL.Image.Image image mode=RGB size=35x35 at 0x7FCC04229EE0>"
            ],
            "image/png": "[encoded data removed]"
          },
          "metadata": {}
        },
        {
          "output_type": "display_data",
          "data": {
            "text/plain": [
              "<PIL.Image.Image image mode=RGB size=35x35 at 0x7FCC04229B20>"
            ],
            "image/png": "[encoded data removed]"
          },
          "metadata": {}
        },
        {
          "output_type": "display_data",
          "data": {
            "text/plain": [
              "<PIL.Image.Image image mode=RGB size=35x35 at 0x7FCC04229940>"
            ],
            "image/png": "[encoded data removed]"
          },
          "metadata": {}
        },
        {
          "output_type": "display_data",
          "data": {
            "text/plain": [
              "<PIL.Image.Image image mode=RGB size=35x35 at 0x7FCC04229EE0>"
            ],
            "image/png": "[encoded data removed]"
          },
          "metadata": {}
        },
        {
          "output_type": "display_data",
          "data": {
            "text/plain": [
              "<PIL.Image.Image image mode=RGB size=35x35 at 0x7FCC04229B20>"
            ],
            "image/png": "[encoded data removed]"
          },
          "metadata": {}
        }
      ]
    },
    {
      "cell_type": "code",
      "source": [
        "def convert(img):\n",
        "  X = []\n",
        "  numpydata = np.asarray(img)\n",
        "  for n in numpydata:\n",
        "    W = []\n",
        "    for m in n:\n",
        "      H = []\n",
        "      H.append(np.mean(m))\n",
        "      W.append(H)\n",
        "    X.append(W)\n",
        "  X = np.array(X)\n",
        "  return X  "
      ],
      "metadata": {
        "id": "yDIQtBtv2QHR"
      },
      "execution_count": null,
      "outputs": []
    },
    {
      "cell_type": "code",
      "source": [
        "X = []\n",
        "y = []\n",
        "for folder in os.listdir('captchas/newset'):\n",
        "  for file in os.listdir('captchas/newset/'+folder+'/'):\n",
        "    img = Image.open('captchas/newset/'+folder+'/'+file)\n",
        "    start = 5\n",
        "    end = 40\n",
        "    for i in range(5):\n",
        "      img_crop = img.crop((start, 0, end, 35))\n",
        "      npdata = convert(img_crop)\n",
        "      X.append(npdata)\n",
        "      y.append(int(folder[i+1]))\n",
        "      start += 25\n",
        "      end += 25"
      ],
      "metadata": {
        "id": "tKSvQTIs4hVB"
      },
      "execution_count": null,
      "outputs": []
    },
    {
      "cell_type": "code",
      "source": [
        "np.array(X).shape"
      ],
      "metadata": {
        "colab": {
          "base_uri": "https://localhost:8080/"
        },
        "id": "PJ33n6TD_EUa",
        "outputId": "059ad549-75fe-4dd4-8409-325a42822791"
      },
      "execution_count": null,
      "outputs": [
        {
          "output_type": "execute_result",
          "data": {
            "text/plain": [
              "(5050, 35, 35, 1)"
            ]
          },
          "metadata": {},
          "execution_count": 10
        }
      ]
    },
    {
      "cell_type": "code",
      "source": [
        "import tensorflow.keras as keras"
      ],
      "metadata": {
        "id": "0uKIyI2a_XXa"
      },
      "execution_count": null,
      "outputs": []
    },
    {
      "cell_type": "code",
      "source": [
        "model = keras.Sequential(\n",
        "        [\n",
        "            keras.layers.Conv2D(filters=16, kernel_size=2, activation='relu', padding='same', input_shape=(35,35,1)),\n",
        "            keras.layers.MaxPooling2D(pool_size=2),\n",
        "            keras.layers.Conv2D(filters=16, kernel_size=4, activation='relu', padding='same'),\n",
        "            keras.layers.MaxPooling2D(pool_size=2),\n",
        "            keras.layers.Conv2D(filters=32, kernel_size=4, activation='relu', padding='same'),\n",
        "            keras.layers.MaxPooling2D(pool_size=2),\n",
        "            keras.layers.Flatten(),\n",
        "            keras.layers.Dense(128, activation=\"relu\"),\n",
        "            keras.layers.Dense(10, activation=\"softmax\")\n",
        "        ])"
      ],
      "metadata": {
        "id": "KohlsHIRAHqj"
      },
      "execution_count": null,
      "outputs": []
    },
    {
      "cell_type": "code",
      "source": [
        "model.compile(loss='sparse_categorical_crossentropy', metrics=['accuracy'])"
      ],
      "metadata": {
        "id": "0CMFzWdADWs-"
      },
      "execution_count": null,
      "outputs": []
    },
    {
      "cell_type": "code",
      "source": [
        "from sklearn.model_selection import train_test_split"
      ],
      "metadata": {
        "id": "kd-4sh0LDfdS"
      },
      "execution_count": null,
      "outputs": []
    },
    {
      "cell_type": "code",
      "source": [
        "X_train, X_test, y_train, y_test = train_test_split(X, y, stratify=y, test_size=0.2)"
      ],
      "metadata": {
        "id": "Ycl9LYeEERhp"
      },
      "execution_count": null,
      "outputs": []
    },
    {
      "cell_type": "code",
      "source": [
        "from matplotlib import pyplot as plt\n",
        "history = model.fit(np.array(X_train), np.array(y_train),validation_split = 0.1, validation_data=(np.array(X_test), np.array(y_test)), epochs=15, batch_size=32)"
      ],
      "metadata": {
        "colab": {
          "base_uri": "https://localhost:8080/"
        },
        "id": "4NhF-ym0Ef55",
        "outputId": "e48fe7da-f45f-493c-f50b-19b8c6540756"
      },
      "execution_count": null,
      "outputs": [
        {
          "output_type": "stream",
          "name": "stdout",
          "text": [
            "Epoch 1/15\n",
            "127/127 [==============================] - 7s 42ms/step - loss: 3.1000 - accuracy: 0.1577 - val_loss: 2.1641 - val_accuracy: 0.1881\n",
            "Epoch 2/15\n",
            "127/127 [==============================] - 6s 48ms/step - loss: 1.6249 - accuracy: 0.4228 - val_loss: 1.2761 - val_accuracy: 0.5663\n",
            "Epoch 3/15\n",
            "127/127 [==============================] - 5s 37ms/step - loss: 0.7837 - accuracy: 0.7292 - val_loss: 1.2197 - val_accuracy: 0.6455\n",
            "Epoch 4/15\n",
            "127/127 [==============================] - 7s 52ms/step - loss: 0.3947 - accuracy: 0.8646 - val_loss: 0.6915 - val_accuracy: 0.7634\n",
            "Epoch 5/15\n",
            "127/127 [==============================] - 5s 41ms/step - loss: 0.2326 - accuracy: 0.9252 - val_loss: 0.3464 - val_accuracy: 0.8881\n",
            "Epoch 6/15\n",
            "127/127 [==============================] - 6s 50ms/step - loss: 0.1249 - accuracy: 0.9587 - val_loss: 0.2090 - val_accuracy: 0.9337\n",
            "Epoch 7/15\n",
            "127/127 [==============================] - 5s 42ms/step - loss: 0.0973 - accuracy: 0.9698 - val_loss: 0.5707 - val_accuracy: 0.8327\n",
            "Epoch 8/15\n",
            "127/127 [==============================] - 5s 40ms/step - loss: 0.0899 - accuracy: 0.9772 - val_loss: 0.1207 - val_accuracy: 0.9584\n",
            "Epoch 9/15\n",
            "127/127 [==============================] - 6s 49ms/step - loss: 0.0562 - accuracy: 0.9800 - val_loss: 0.0885 - val_accuracy: 0.9663\n",
            "Epoch 10/15\n",
            "127/127 [==============================] - 5s 41ms/step - loss: 0.0703 - accuracy: 0.9827 - val_loss: 0.1447 - val_accuracy: 0.9574\n",
            "Epoch 11/15\n",
            "127/127 [==============================] - 7s 52ms/step - loss: 0.0563 - accuracy: 0.9844 - val_loss: 0.1399 - val_accuracy: 0.9554\n",
            "Epoch 12/15\n",
            "127/127 [==============================] - 5s 40ms/step - loss: 0.0551 - accuracy: 0.9844 - val_loss: 0.0923 - val_accuracy: 0.9663\n",
            "Epoch 13/15\n",
            "127/127 [==============================] - 6s 51ms/step - loss: 0.0424 - accuracy: 0.9859 - val_loss: 0.1028 - val_accuracy: 0.9713\n",
            "Epoch 14/15\n",
            "127/127 [==============================] - 5s 38ms/step - loss: 0.0331 - accuracy: 0.9896 - val_loss: 0.0668 - val_accuracy: 0.9802\n",
            "Epoch 15/15\n",
            "127/127 [==============================] - 6s 44ms/step - loss: 0.0373 - accuracy: 0.9894 - val_loss: 0.0856 - val_accuracy: 0.9752\n"
          ]
        }
      ]
    },
    {
      "cell_type": "code",
      "source": [
        "plt.plot(history.history['accuracy'])\n",
        "plt.plot(history.history['val_accuracy'])\n",
        "plt.title('model accuracy')\n",
        "plt.ylabel('accuracy')\n",
        "plt.xlabel('epoch')\n",
        "plt.legend(['accuracy', 'val_accuracy'], loc='upper left')\n",
        "plt.show()"
      ],
      "metadata": {
        "colab": {
          "base_uri": "https://localhost:8080/",
          "height": 295
        },
        "id": "fPy6YlnIIgmG",
        "outputId": "28d0f66c-32a6-4983-87b1-4ca16bded2f5"
      },
      "execution_count": null,
      "outputs": [
        {
          "output_type": "display_data",
          "data": {
            "text/plain": [
              "<Figure size 432x288 with 1 Axes>"
            ],
            "image/png": "[encoded data removed]"
          },
          "metadata": {
            "needs_background": "light"
          }
        }
      ]
    },
    {
      "cell_type": "code",
      "source": [
        "plt.plot(history.history['loss'])\n",
        "plt.plot(history.history['val_loss'])\n",
        "plt.title('model loss')\n",
        "plt.ylabel('loss')\n",
        "plt.xlabel('epoch')\n",
        "plt.legend(['loss', 'val_loss'], loc='upper left')\n",
        "plt.show()"
      ],
      "metadata": {
        "colab": {
          "base_uri": "https://localhost:8080/",
          "height": 295
        },
        "id": "Z95mI1zCIdQA",
        "outputId": "cfe8aab3-7c73-4f57-c66c-78e25fccb52a"
      },
      "execution_count": null,
      "outputs": [
        {
          "output_type": "display_data",
          "data": {
            "text/plain": [
              "<Figure size 432x288 with 1 Axes>"
            ],
            "image/png": "[encoded data removed]"
          },
          "metadata": {
            "needs_background": "light"
          }
        }
      ]
    },
    {
      "cell_type": "code",
      "source": [
        "_, acc = model.evaluate(np.array(X_test), np.array(y_test))\n",
        "print('> %.3f' % (acc * 100.0))"
      ],
      "metadata": {
        "colab": {
          "base_uri": "https://localhost:8080/"
        },
        "id": "_q5WrHhoHmVf",
        "outputId": "a2e052e4-37ca-4aa2-f39f-2063fd09535a"
      },
      "execution_count": null,
      "outputs": [
        {
          "output_type": "stream",
          "name": "stdout",
          "text": [
            "32/32 [==============================] - 1s 20ms/step - loss: 0.0856 - accuracy: 0.9752\n",
            "> 97.525\n"
          ]
        }
      ]
    },
    {
      "cell_type": "code",
      "source": [
        "# testing model\n",
        "\n",
        "# img = Image.open('captchas/newset/c67622/0.png')\n",
        "img = Image.open('test.png')\n",
        "img.show()\n",
        "start = 5\n",
        "end = 40\n",
        "nums = []\n",
        "for i in range(5):\n",
        "  img_crop = img.crop((start, 0, end, 35))\n",
        "  npdata = convert(img_crop)\n",
        "  test = []\n",
        "  test.append(npdata) \n",
        "  pred = model.predict(np.array(test))\n",
        "  nums.append(np.argmax(pred))\n",
        "  start += 25\n",
        "  end += 25\n",
        "nums"
      ],
      "metadata": {
        "colab": {
          "base_uri": "https://localhost:8080/",
          "height": 156
        },
        "id": "JlquQ5GJ2kRH",
        "outputId": "0c0612c8-ec11-4803-a754-e988f0cb0d30"
      },
      "execution_count": null,
      "outputs": [
        {
          "output_type": "display_data",
          "data": {
            "text/plain": [
              "<PIL.PngImagePlugin.PngImageFile image mode=RGB size=150x35 at 0x7FCB6AE2C220>"
            ],
            "image/png": "[encoded data removed]"
          },
          "metadata": {}
        },
        {
          "output_type": "stream",
          "name": "stdout",
          "text": [
            "1/1 [==============================] - 0s 135ms/step\n",
            "1/1 [==============================] - 0s 24ms/step\n",
            "1/1 [==============================] - 0s 26ms/step\n",
            "1/1 [==============================] - 0s 25ms/step\n",
            "1/1 [==============================] - 0s 27ms/step\n"
          ]
        },
        {
          "output_type": "execute_result",
          "data": {
            "text/plain": [
              "[5, 2, 3, 9, 8]"
            ]
          },
          "metadata": {},
          "execution_count": 18
        }
      ]
    },
    {
      "cell_type": "code",
      "source": [
        "model.save('captcha_recognizer_model.h5')"
      ],
      "metadata": {
        "id": "gXXWEG696Hk8"
      },
      "execution_count": null,
      "outputs": []
    },
    {
      "cell_type": "code",
      "source": [
        "!zip -r captcha_model.zip captcha_recognizer_model"
      ],
      "metadata": {
        "colab": {
          "base_uri": "https://localhost:8080/"
        },
        "id": "fkUJzVQ67mQv",
        "outputId": "56b715e0-cea6-4f03-b169-caef2a27fe94"
      },
      "execution_count": null,
      "outputs": [
        {
          "output_type": "stream",
          "name": "stdout",
          "text": [
            "  adding: captcha_recognizer_model/ (stored 0%)\n",
            "  adding: captcha_recognizer_model/assets/ (stored 0%)\n",
            "  adding: captcha_recognizer_model/saved_model.pb (deflated 89%)\n",
            "  adding: captcha_recognizer_model/variables/ (stored 0%)\n",
            "  adding: captcha_recognizer_model/variables/variables.index (deflated 60%)\n",
            "  adding: captcha_recognizer_model/variables/variables.data-00000-of-00001 (deflated 8%)\n",
            "  adding: captcha_recognizer_model/keras_metadata.pb (deflated 92%)\n",
            "  adding: captcha_recognizer_model/fingerprint.pb (stored 0%)\n"
          ]
        }
      ]
    }
  ]
}